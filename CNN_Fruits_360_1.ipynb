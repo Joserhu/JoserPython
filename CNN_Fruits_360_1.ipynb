{
 "cells": [
  {
   "cell_type": "markdown",
   "metadata": {},
   "source": [
    "<br>\n",
    "<font color=blue  size=6 face=\"微軟正黑體\">期末專案進度報告</font> \n",
    "<br>\n",
    "<br>\n",
    "<font color=\"#000080\"  size=5 face=\"微軟正黑體\">主題 : 使用深度學習來識別蔬果</font> \n",
    "<br>\n",
    "<font color=\"#000080\"  size=5 face=\"微軟正黑體\">組員 : 胡嘉展(Joser Hu) , 紀弘俊(David Chi)</font>  "
   ]
  },
  {
   "cell_type": "markdown",
   "metadata": {},
   "source": [
    "<font color=\"#000080\" size=3 face=\"微軟正黑體\"> \n",
    "識別蔬果圖像內容包括 : 蘋果，梨，香蕉，仙人掌果，哈密瓜，櫻桃，萊姆，，番茄，\n",
    "葡萄，葡萄柚，番石榴，榛子，桃，柿子，大頭菜，檸檬，荔枝，柑，芒果，芒果，甜瓜，桑樹，\n",
    "橙，木瓜，百香果，桃，鳳梨，辣椒，菠蘿，石榴，柚子蜜，木瓜，紅毛丹，覆盆子，紅醋栗，草莓.....\n",
    "</font> \n",
    "\n",
    "<br>\n",
    "<font color=\"#000080\"  size=5 face=\"微軟正黑體\"> 方法 : 使用卷積神經網路CNN(Convolutional neural network)流程</font>  \n",
    "<img src=\"CNN_1.png\" alt=\"drawing\" style=\"width: 800px;\"/>\n",
    "\n",
    "<br>\n",
    "<font color=Red size=3 face=\"微軟正黑體\">[輸入]</font>\n",
    "<br>\n",
    "* 圖像大小：100x100 Pixel\n",
    "* 訓練圖像數量: 52,262\n",
    "* 測試圖像數量: 17,540張圖\n",
    "\n",
    "<br>\n",
    "<font color=Red size=3 face=\"微軟正黑體\"> [輸出]</font>\n",
    "<br>\n",
    "* 可分辨蔬果分類數量：101 種水果\n",
    "* 識別圖像來源 : 經由水果測試圖像進行預測識別出水果種類。\n",
    "\n",
    "<br>\n",
    "<font color=Red size=3 face=\"微軟正黑體\">[訓練資料結構]</font>\n",
    "<br>\n",
    "1. 建立101種 \"英文水果名稱\" 目錄，按照英文字母由a~z排列出順序，大約 (0~100) 個目錄。\n",
    "2. 標註Label (y_train)   : 水果目錄順序碼\n",
    "3. 特徵Feature (x_train) : 水果目錄下圖像檔"
   ]
  },
  {
   "cell_type": "markdown",
   "metadata": {},
   "source": [
    "<font color=BLACK  size=5 face=\"微軟正黑體\"> 建立卷積神經網路識別水果資料集步驟</font>  \n",
    "<img src=\"CNN_2.png\" alt=\"drawing\" style=\"width: 800px;\"/>"
   ]
  },
  {
   "cell_type": "markdown",
   "metadata": {},
   "source": [
    "<font color=blue  size=5 face=\"微軟正黑體\" > 1. 資料收集 </font> \n",
    "<font color=\"#000080\" size=3 face=\"微軟正黑體\"  > 開始構建CNN，對fruits數據集進行多類分類，共有69,908個圖像，分為兩個文件夾 :  </font>\n",
    "1. 訓練集 : 52,262 筆圖像\n",
    "2. 測試集 : 17,540 筆圖像"
   ]
  },
  {
   "cell_type": "markdown",
   "metadata": {},
   "source": [
    "<font color=blue  size=5 face=\"微軟正黑體\" > 2. 資料預處理(Preprocess) </font> \n",
    "<br>\n",
    "<font color=\"#000080\"  size=3 face=\"微軟正黑體\" > 2.1 將圖片資料依水果分類(特徵Feature)及建立分類水果真實名稱為目錄(標註Label) </font> "
   ]
  },
  {
   "cell_type": "code",
   "execution_count": 2,
   "metadata": {},
   "outputs": [
    {
     "name": "stdout",
     "output_type": "stream",
     "text": [
      "Loading complete!\n",
      "Training set qty :  52262\n",
      "Testing set qty :  17540\n"
     ]
    }
   ],
   "source": [
    "# 將圖片檔名及目標標籤載到numpy數組陣列中！\n",
    "from sklearn.datasets import load_files\n",
    "import numpy as np\n",
    "\n",
    "train_dir = './fruits-360/Training'\n",
    "test_dir = './fruits-360/Test'\n",
    "\n",
    "\n",
    "def load_dataset(path):\n",
    "    data = load_files(path)\n",
    "    files = np.array(data['filenames'])\n",
    "    targets = np.array(data['target'])\n",
    "    target_labels = np.array(data['target_names'])\n",
    "    return files,targets,target_labels\n",
    "    \n",
    "x_train, y_train,target_labels = load_dataset(train_dir)\n",
    "x_test, y_test,_ = load_dataset(test_dir)\n",
    "print('Loading complete!')\n",
    "\n",
    "print('Training set qty : ' , x_train.shape[0]) \n",
    "print('Testing set qty : ', x_test.shape[0])"
   ]
  },
  {
   "cell_type": "code",
   "execution_count": 3,
   "metadata": {},
   "outputs": [
    {
     "data": {
      "text/plain": [
       "(array(['./fruits-360/Training\\\\Tomato 2\\\\134_100.jpg',\n",
       "        './fruits-360/Training\\\\Cherry Wax Black\\\\r_9_100.jpg',\n",
       "        './fruits-360/Training\\\\Apple Braeburn\\\\180_100.jpg', ...,\n",
       "        './fruits-360/Training\\\\Pomegranate\\\\260_100.jpg',\n",
       "        './fruits-360/Training\\\\Quince\\\\45_100.jpg',\n",
       "        './fruits-360/Training\\\\Apple Granny Smith\\\\r_177_100.jpg'],\n",
       "       dtype='<U55'), array([95, 25,  0, ..., 83, 85,  5]))"
      ]
     },
     "execution_count": 3,
     "metadata": {},
     "output_type": "execute_result"
    }
   ],
   "source": [
    "# 檢視圖像檔案及標籤\n",
    "x_train, y_train"
   ]
  },
  {
   "cell_type": "code",
   "execution_count": 4,
   "metadata": {},
   "outputs": [
    {
     "data": {
      "text/plain": [
       "101"
      ]
     },
     "execution_count": 4,
     "metadata": {},
     "output_type": "execute_result"
    }
   ],
   "source": [
    "# 確認水果種類數量\n",
    "no_of_classes = len(np.unique(y_train))\n",
    "no_of_classes"
   ]
  },
  {
   "cell_type": "code",
   "execution_count": 5,
   "metadata": {},
   "outputs": [
    {
     "name": "stdout",
     "output_type": "stream",
     "text": [
      "[95 25  0 68 53 82 33 82 45 63]\n"
     ]
    }
   ],
   "source": [
    "# 更改為101個單位向量\n",
    "print(y_train[0:10])"
   ]
  },
  {
   "cell_type": "code",
   "execution_count": 6,
   "metadata": {},
   "outputs": [
    {
     "name": "stderr",
     "output_type": "stream",
     "text": [
      "Using TensorFlow backend.\n"
     ]
    },
    {
     "data": {
      "text/plain": [
       "array([0., 0., 0., 0., 0., 0., 0., 0., 0., 0., 0., 0., 0., 0., 0., 0., 0.,\n",
       "       0., 0., 0., 0., 0., 0., 0., 0., 0., 0., 0., 0., 0., 0., 0., 0., 0.,\n",
       "       0., 0., 0., 0., 0., 0., 0., 0., 0., 0., 0., 0., 0., 0., 0., 0., 0.,\n",
       "       0., 0., 0., 0., 0., 0., 0., 0., 0., 0., 0., 0., 0., 0., 0., 0., 0.,\n",
       "       0., 0., 0., 0., 0., 0., 0., 0., 0., 0., 0., 0., 0., 0., 0., 0., 0.,\n",
       "       0., 0., 0., 0., 0., 0., 0., 0., 0., 0., 1., 0., 0., 0., 0., 0.],\n",
       "      dtype=float32)"
      ]
     },
     "execution_count": 6,
     "metadata": {},
     "output_type": "execute_result"
    }
   ],
   "source": [
    "from keras.models import model_from_json\n",
    "from keras.utils import np_utils\n",
    "# CNN 輸出層的每筆 Data 都是一維陣列\n",
    "# 所以, 需將 Train & Test Label 資料轉換為 One-Hot Encoding \n",
    "y_train = np_utils.to_categorical(y_train,no_of_classes) # 將類向量（整數）轉換為二進制類矩陣 one hot encoding\n",
    "y_test = np_utils.to_categorical(y_test,no_of_classes)\n",
    "y_train[0] \n"
   ]
  },
  {
   "cell_type": "markdown",
   "metadata": {},
   "source": [
    "<font color=\"#000080\"  size=3 face=\"微軟正黑體\" > 2.2 將資料集劃分為測試和驗證集 </font> "
   ]
  },
  {
   "cell_type": "code",
   "execution_count": 7,
   "metadata": {},
   "outputs": [
    {
     "name": "stdout",
     "output_type": "stream",
     "text": [
      "Vaildation X :  (7000,)\n",
      "Vaildation y : (7000, 101)\n",
      "Test X :  (10540,)\n",
      "Test y :  (10540, 101)\n"
     ]
    }
   ],
   "source": [
    "# 將驗證資料劃分為測試和驗證標籤\n",
    "x_test,x_valid = x_test[7000:],x_test[:7000]\n",
    "y_test,y_vaild = y_test[7000:],y_test[:7000]\n",
    "print('Vaildation X : ',x_valid.shape)\n",
    "print('Vaildation y :',y_vaild.shape)\n",
    "print('Test X : ',x_test.shape)\n",
    "print('Test y : ',y_test.shape)"
   ]
  },
  {
   "cell_type": "code",
   "execution_count": 8,
   "metadata": {},
   "outputs": [
    {
     "data": {
      "text/plain": [
       "'./fruits-360/Training\\\\Tomato 2\\\\134_100.jpg'"
      ]
     },
     "execution_count": 8,
     "metadata": {},
     "output_type": "execute_result"
    }
   ],
   "source": [
    "x_train[0]\n",
    "# 訓練數據只是圖像檔名，需要將它們轉換為像素矩陣"
   ]
  },
  {
   "cell_type": "code",
   "execution_count": 9,
   "metadata": {},
   "outputs": [
    {
     "data": {
      "text/plain": [
       "'./fruits-360/Training\\\\Cherry Wax Black\\\\r_9_100.jpg'"
      ]
     },
     "execution_count": 9,
     "metadata": {},
     "output_type": "execute_result"
    }
   ],
   "source": [
    "x_train[1]"
   ]
  },
  {
   "cell_type": "markdown",
   "metadata": {},
   "source": [
    "<font color=\"#000080\"  size=3 face=\"微軟正黑體\" > 2.3 將像素轉換為數據矩陣</font> "
   ]
  },
  {
   "cell_type": "code",
   "execution_count": 10,
   "metadata": {},
   "outputs": [
    {
     "name": "stdout",
     "output_type": "stream",
     "text": [
      "Training set shape :  (52262, 100, 100, 3)\n",
      "Validation set shape :  (7000, 100, 100, 3)\n",
      "Test set shape :  (10540, 100, 100, 3)\n",
      "1st training image shape  (100, 100, 3)\n"
     ]
    }
   ],
   "source": [
    "# 將圖像載入和轉入陣列內\n",
    "from keras.preprocessing.image import array_to_img, img_to_array, load_img\n",
    "\n",
    "def convert_image_to_array(files):\n",
    "    images_as_array=[]\n",
    "    for file in files:\n",
    "        images_as_array.append(img_to_array(load_img(file)))   \n",
    "    return images_as_array\n",
    "\n",
    "x_train = np.array(convert_image_to_array(x_train))\n",
    "print('Training set shape : ',x_train.shape)\n",
    "\n",
    "x_valid = np.array(convert_image_to_array(x_valid))\n",
    "print('Validation set shape : ',x_valid.shape)\n",
    "\n",
    "x_test = np.array(convert_image_to_array(x_test))\n",
    "print('Test set shape : ',x_test.shape)\n",
    "\n",
    "print('1st training image shape ',x_train[0].shape)"
   ]
  },
  {
   "cell_type": "code",
   "execution_count": 11,
   "metadata": {},
   "outputs": [
    {
     "name": "stdout",
     "output_type": "stream",
     "text": [
      "1st training image as array [[[255. 255. 255.]\n",
      "  [255. 255. 255.]\n",
      "  [255. 255. 255.]\n",
      "  ...\n",
      "  [255. 255. 255.]\n",
      "  [255. 255. 255.]\n",
      "  [255. 255. 255.]]\n",
      "\n",
      " [[255. 255. 255.]\n",
      "  [255. 255. 255.]\n",
      "  [255. 255. 255.]\n",
      "  ...\n",
      "  [255. 255. 255.]\n",
      "  [255. 255. 255.]\n",
      "  [255. 255. 255.]]\n",
      "\n",
      " [[255. 255. 255.]\n",
      "  [255. 255. 255.]\n",
      "  [255. 255. 255.]\n",
      "  ...\n",
      "  [255. 255. 255.]\n",
      "  [255. 255. 255.]\n",
      "  [255. 255. 255.]]\n",
      "\n",
      " ...\n",
      "\n",
      " [[255. 255. 255.]\n",
      "  [255. 255. 255.]\n",
      "  [255. 255. 255.]\n",
      "  ...\n",
      "  [255. 255. 255.]\n",
      "  [255. 255. 255.]\n",
      "  [255. 255. 255.]]\n",
      "\n",
      " [[255. 255. 255.]\n",
      "  [255. 255. 255.]\n",
      "  [255. 255. 255.]\n",
      "  ...\n",
      "  [255. 255. 255.]\n",
      "  [255. 255. 255.]\n",
      "  [255. 255. 255.]]\n",
      "\n",
      " [[255. 255. 255.]\n",
      "  [255. 255. 255.]\n",
      "  [255. 255. 255.]\n",
      "  ...\n",
      "  [255. 255. 255.]\n",
      "  [255. 255. 255.]\n",
      "  [255. 255. 255.]]]\n"
     ]
    }
   ],
   "source": [
    "print('1st training image as array',x_train[0]) "
   ]
  },
  {
   "cell_type": "code",
   "execution_count": 16,
   "metadata": {},
   "outputs": [
    {
     "ename": "MemoryError",
     "evalue": "",
     "output_type": "error",
     "traceback": [
      "\u001b[1;31m---------------------------------------------------------------------------\u001b[0m",
      "\u001b[1;31mMemoryError\u001b[0m                               Traceback (most recent call last)",
      "\u001b[1;32m<ipython-input-16-32a468f590b7>\u001b[0m in \u001b[0;36m<module>\u001b[1;34m()\u001b[0m\n\u001b[0;32m      1\u001b[0m \u001b[1;31m# 將資料線性單位化至  [0,1] 。\u001b[0m\u001b[1;33m\u001b[0m\u001b[1;33m\u001b[0m\u001b[0m\n\u001b[1;32m----> 2\u001b[1;33m \u001b[0mx_train\u001b[0m \u001b[1;33m=\u001b[0m \u001b[0mx_train\u001b[0m\u001b[1;33m.\u001b[0m\u001b[0mastype\u001b[0m\u001b[1;33m(\u001b[0m\u001b[1;34m'float32'\u001b[0m\u001b[1;33m)\u001b[0m\u001b[1;33m\u001b[0m\u001b[0m\n\u001b[0m\u001b[0;32m      3\u001b[0m \u001b[0mx_valid\u001b[0m \u001b[1;33m=\u001b[0m \u001b[0mx_valid\u001b[0m\u001b[1;33m.\u001b[0m\u001b[0mastype\u001b[0m\u001b[1;33m(\u001b[0m\u001b[1;34m'float32'\u001b[0m\u001b[1;33m)\u001b[0m\u001b[1;33m\u001b[0m\u001b[0m\n\u001b[0;32m      4\u001b[0m \u001b[0mx_test\u001b[0m \u001b[1;33m=\u001b[0m \u001b[0mx_test\u001b[0m\u001b[1;33m.\u001b[0m\u001b[0mastype\u001b[0m\u001b[1;33m(\u001b[0m\u001b[1;34m'float32'\u001b[0m\u001b[1;33m)\u001b[0m\u001b[1;33m\u001b[0m\u001b[0m\n\u001b[0;32m      5\u001b[0m \u001b[0mx_train\u001b[0m \u001b[1;33m=\u001b[0m \u001b[0mx_train\u001b[0m\u001b[1;33m/\u001b[0m\u001b[1;36m255\u001b[0m\u001b[1;33m\u001b[0m\u001b[0m\n",
      "\u001b[1;31mMemoryError\u001b[0m: "
     ]
    }
   ],
   "source": [
    "# 將資料線性單位化至  [0,1] 。\n",
    "x_train = x_train.astype('float32')\n",
    "x_valid = x_valid.astype('float32')\n",
    "x_test = x_test.astype('float32')\n",
    "x_train = x_train/255\n",
    "x_test = x_valid/255\n",
    "x_test = x_test/255\n",
    "x_train[0]"
   ]
  },
  {
   "cell_type": "code",
   "execution_count": null,
   "metadata": {},
   "outputs": [],
   "source": [
    "# 將資料線性單位化至  [0,1] 。\n",
    "x_train = x_train.astype('float32')/255\n",
    "x_valid = x_valid.astype('float32')/255\n",
    "x_test = x_test.astype('float32')/255\n",
    "x_train[0]"
   ]
  },
  {
   "cell_type": "code",
   "execution_count": null,
   "metadata": {},
   "outputs": [],
   "source": [
    "# 檢查一下\n",
    "x_train.min(), x_train.max()"
   ]
  },
  {
   "cell_type": "code",
   "execution_count": null,
   "metadata": {},
   "outputs": [],
   "source": [
    "# 可視化前15個訓練圖像！\n",
    "import matplotlib.pyplot as plt\n",
    "\n",
    "fig = plt.figure(figsize =(40,5))\n",
    "for i in range(15):\n",
    "    ax = fig.add_subplot(3,5,i+1,xticks=[],yticks=[]) # (nrows, ncols, index, **kwargs) kwargs: xticks->list yticks->list only\n",
    "    ax.imshow(np.squeeze(x_train[i]))"
   ]
  },
  {
   "cell_type": "markdown",
   "metadata": {},
   "source": [
    "<font color=blue  size=5 face=\"微軟正黑體\" > 3. 建立模型 </font> \n",
    "* 建立CNN 模型，輸入水果圖像，透過卷積層、池化層、提取圖像特徵，再以完全連結神經網路，包括平坦層、隱藏層、輸出層，組成神經網路\n",
    "* 研讀並選擇合適的Loss functions"
   ]
  },
  {
   "cell_type": "code",
   "execution_count": null,
   "metadata": {},
   "outputs": [],
   "source": [
    "# 建立CNN神經網路 - 使用3個Conv層，然後是maxpooling層\n",
    "# 最後添加dropout，flatten和 fully connected layers(Dense)\n",
    "\n",
    "from keras.models import Sequential\n",
    "from keras.layers import Conv2D,MaxPooling2D\n",
    "from keras.layers import Activation, Dense, Flatten, Dropout\n",
    "from keras.preprocessing.image import ImageDataGenerator\n",
    "from keras.callbacks import ModelCheckpoint\n",
    "from keras import backend as K\n",
    "\n",
    "# 建立空的神經網路學習機\n",
    "model = Sequential()\n",
    "\n",
    "# 逐層建立神經網路，模型加入【輸入層】與【第一層卷積層】\n",
    "# 產生 16 個類似濾鏡效果的卷積圖片,輸入層為 (100, 100, 3) 的三維陣列,卷積圖片大小與原始圖片一樣,也就是 100x100\n",
    "model.add(Conv2D(filters = 16, kernel_size = 2,input_shape=(100,100,3),padding='same'))# 定義conv2d 函數，進行卷積運算  \n",
    "model.add(Activation('relu'))                                                          # 使用 relu 激活函數\n",
    "model.add(MaxPooling2D(pool_size=2))                                                   # 模型加入【第一層池化層】\n",
    "                                                                                       # 以 2x2 進行縮減取樣\n",
    "                                                                                       # 卷積圖片若為 100x100, 則縮減取樣後的圖片為 50x50\n",
    "model.add(Conv2D(filters = 32,kernel_size = 2,activation= 'relu',padding='same'))\n",
    "model.add(MaxPooling2D(pool_size=2))\n",
    "\n",
    "model.add(Conv2D(filters = 64,kernel_size = 2,activation= 'relu',padding='same'))\n",
    "model.add(MaxPooling2D(pool_size=2))\n",
    "\n",
    "model.add(Conv2D(filters = 128,kernel_size = 2,activation= 'relu',padding='same'))\n",
    "model.add(MaxPooling2D(pool_size=2))\n",
    "\n",
    "model.add(Dropout(0.3))                                                               # 加入Dropout避免overfitting，保留70%神經元\n",
    "model.add(Flatten())                                                                  # 模型加入【平坦層】\n",
    "model.add(Dense(150))                                                                 # 隱藏層有 150 個神經元 (值越大, 訓練越精準, 相對訓練時間也越久)\n",
    "model.add(Activation('relu'))                                                         # 使用 relu 激活函數\n",
    "model.add(Dropout(0.4))                                                               # 加入Dropout避免overfitting，保留60%神經元\n",
    "model.add(Dense(101,activation = 'softmax'))                                          # 模型加入【輸出層】 有 101 個神經元\n",
    "                                                                                      # 使用 softmax 激活函數 (softmax 值越高, 代表機率越大)\n",
    "model.summary()"
   ]
  },
  {
   "cell_type": "code",
   "execution_count": null,
   "metadata": {},
   "outputs": [],
   "source": [
    "# 設定模型的訓練方式\n",
    "model.compile(loss='categorical_crossentropy',              # 設定 Loss 損失函數 為 categorical_crossentropy\n",
    "              optimizer='rmsprop',                          # 設定 Optimizer 最佳化方法 為 adam\n",
    "              metrics=['accuracy'])                         # 設定 Model 評估準確率方法 為 accuracy\n",
    "print('Compiled!')"
   ]
  },
  {
   "cell_type": "markdown",
   "metadata": {},
   "source": [
    "<font color=blue  size=5 face=\"微軟正黑體\" > 4. 訓練模型 </font> "
   ]
  },
  {
   "cell_type": "markdown",
   "metadata": {},
   "source": [
    "<font color=\"#000080\"  size=3 face=\"微軟正黑體\" > 提升準確率方式有 : </font> \n",
    "<br>\n",
    "* 可再執行這個函數,進行重覆訓練\n",
    "* 增加 卷積層 filter 數\n",
    "* 增加 隱藏層 units 神經元數\n",
    "* 增加 隱藏層 layer\n",
    "* 更換訓練神經網路<br>\n",
    "\n",
    "<font color=\"#000080\"  size=3 face=\"微軟正黑體\" > 訓練說明 : </font> \n",
    "<br>\n",
    "* 模型的保存及重用\n",
    "* 每次訓練結束後回調比對，並保存最好的模型於hdf5。\n",
    "* 輸入訓練資料，Feature 水果圖像特徵值與Label水果真實名稱\n",
    "* 執行15次訓練週期，每一批次50筆資料"
   ]
  },
  {
   "cell_type": "code",
   "execution_count": null,
   "metadata": {},
   "outputs": [],
   "source": [
    "batch_size = 30\n",
    "# 在每個訓練期之後保存模型\n",
    "filepath=\"./fruits-360/fruits_weights_best.hdf5\" # fruits_weights_best.hdf5\n",
    "checkpointer = ModelCheckpoint(filepath, verbose = 1, save_best_only = True) \n",
    "#checkpointer = ModelCheckpoint(filepath = './fruits-360/cnn_from_scratch_fruits.hdf5', verbose = 1, save_best_only = True) \n",
    "\n",
    "# 定義訓練參數，訓練的歷史記錄, 會回傳到指定變數 history\n",
    "history = model.fit(x_train,y_train,            # 設定 圖片 Features 特徵值 及 圖片 Label  真實值\n",
    "        batch_size = batch_size,                # 設定 訓練時每批次有多少筆 (值 100 以上, 值越大, 訓練速度越快, 但需記憶體要夠大)\n",
    "        epochs=30,                              # 設定 訓練次數  (值 10 以上,  值越大, 訓練時間越久, 但訓練越精準)\n",
    "        validation_data=(x_valid, y_vaild),     # 設定 有多少筆驗證，此參數將覆蓋validation_spilt\n",
    "        # validation_split = 0.2,               # 設定 有多少筆驗證 (52262*0.2=10452 筆驗證, 52262*0.8=41809 筆訓練)                                                    \n",
    "        callbacks = [checkpointer],             # 在每個訓練期之後保存模型\n",
    "        verbose=2, shuffle=True)                # verbose 是否 顯示訓練過程  (0: 不顯示, 1: 詳細顯示, 2: 簡易顯示)"
   ]
  },
  {
   "cell_type": "markdown",
   "metadata": {},
   "source": [
    "<font color=black  size=3 face=\"微軟正黑體\" > 使用訓練完成模型，輸入資料進行預測，逐次顯示訓練結果 </font> \n",
    "<br>\n",
    "<font color=black  size=2 face=\"微軟正黑體\" >\n",
    ". loss:     使用訓練資料, 得到的損失函數誤差值 (值越小, 代表準確率越高)<br>\n",
    ". acc:      使用訓練資料, 得到的評估準確率     (值在 0~1, 值越大, 代表準確率越高)<br>\n",
    ". val_loss: 使用驗證資料, 得到的損失函數誤差值 (值越小, 代表準確率越高)<br>\n",
    ". val_acc:  使用驗證資料, 得到的評估準確率     (值在 0~1, 值越大, 代表準確率越高)</font> "
   ]
  },
  {
   "cell_type": "code",
   "execution_count": null,
   "metadata": {},
   "outputs": [],
   "source": [
    "# 載入產生最佳驗證精度的權重\n",
    "# model.load_weights('./fruits-360/cnn_from_scratch_fruits.hdf5')\n",
    "model.load_weights('./fruits-360/fruits_weights_best.hdf5')"
   ]
  },
  {
   "cell_type": "code",
   "execution_count": null,
   "metadata": {},
   "outputs": [],
   "source": [
    "from keras.models import load_model\n",
    "# 加載模型\n",
    "model = load_model('./fruits-360/fruits_weights_best.hdf5')\n",
    "# score = model.evaluate (x_test,y_test,verbose = 0)\n",
    "# print('{}：{：.2％}')\n",
    "# （'{}：{：.2％}'。 format（model.metrics_names [ 1 ],得分[ 1 ]））"
   ]
  },
  {
   "cell_type": "markdown",
   "metadata": {},
   "source": [
    "<font color=blue  size=5 face=\"微軟正黑體\" > 5. 評估模型準確率 </font> "
   ]
  },
  {
   "cell_type": "code",
   "execution_count": null,
   "metadata": {},
   "outputs": [],
   "source": [
    "# 估計準確度 損失和準確率\n",
    "score = model.evaluate(x_test, y_test, verbose=0)\n",
    "print('\\n', 'Test accuracy:', score[1])\n",
    "#98% accuracy !!"
   ]
  },
  {
   "cell_type": "code",
   "execution_count": null,
   "metadata": {},
   "outputs": [],
   "source": [
    "print(f'測試資料的 loss: {score[0]:.5f}')\n",
    "print(f'測試資料的正確率: {score[1]}')"
   ]
  },
  {
   "cell_type": "markdown",
   "metadata": {},
   "source": [
    "<font color=blue  size=5 face=\"微軟正黑體\" > 6. 進行預測 </font> \n",
    "<br>\n",
    "<font color=\"#000080\"  size=3 face=\"微軟正黑體\" > 使用訓練完成模型，輸入資料進行預測 </font> \n",
    "<br>\n",
    "<font color=\"#000080\"  size=3 face=\"微軟正黑體\" > 可視化測試預測結果, 隨機抽取測試圖像樣本，並預測標籤和標註數據(ground truth) </font> "
   ]
  },
  {
   "cell_type": "code",
   "execution_count": null,
   "metadata": {},
   "outputs": [],
   "source": [
    "# 可視化測試預測結果\n",
    "y_pred = model.predict(x_test)\n",
    "# 隨機抽取測試圖像樣本，並預測標籤和標註數據(ground truth)\n",
    "fig = plt.figure(figsize=(16, 9))\n",
    "for i, idx in enumerate(np.random.choice(x_test.shape[0], size=16, replace=False)):\n",
    "    ax = fig.add_subplot(4, 4, i + 1, xticks=[], yticks=[])\n",
    "    ax.imshow(np.squeeze(x_test[idx]))\n",
    "    pred_idx = np.argmax(y_pred[idx])\n",
    "    true_idx = np.argmax(y_test[idx])\n",
    "    ax.set_title(\"{} ({})\".format(target_labels[pred_idx], target_labels[true_idx]),\n",
    "                 color=(\"green\" if pred_idx == true_idx else \"red\"))"
   ]
  },
  {
   "cell_type": "markdown",
   "metadata": {},
   "source": [
    "<font color=blue  size=5 face=\"微軟正黑體\" > 7. 結果報告 </font> \n",
    "<br>\n",
    "<font color=\"#000080\"  size=3 face=\"微軟正黑體\" > 檢視損失和準確性結果 </font> "
   ]
  },
  {
   "cell_type": "code",
   "execution_count": null,
   "metadata": {},
   "outputs": [],
   "source": [
    "# 檢視損失率和精準度\n",
    "import matplotlib.pyplot as plt \n",
    "plt.figure(1)  \n",
    "   \n",
    " # 準確度結果  \n",
    "   \n",
    "plt.subplot(211)  \n",
    "plt.plot(history.history['acc'])  \n",
    "plt.plot(history.history['val_acc'])  \n",
    "plt.title('model accuracy')  \n",
    "plt.ylabel('accuracy')  \n",
    "plt.xlabel('epoch')  \n",
    "plt.legend(['train', 'test'], loc='upper left')  \n",
    "   \n",
    " # 損失率結果   \n",
    "   \n",
    "plt.subplot(212)  \n",
    "plt.plot(history.history['loss'])  \n",
    "plt.plot(history.history['val_loss'])  \n",
    "plt.title('model loss')  \n",
    "plt.ylabel('loss')  \n",
    "plt.xlabel('epoch')  \n",
    "plt.legend(['train', 'test'], loc='upper left')  \n",
    "plt.show()"
   ]
  },
  {
   "cell_type": "code",
   "execution_count": null,
   "metadata": {},
   "outputs": [],
   "source": []
  }
 ],
 "metadata": {
  "kernelspec": {
   "display_name": "Python 3",
   "language": "python",
   "name": "python3"
  },
  "language_info": {
   "codemirror_mode": {
    "name": "ipython",
    "version": 3
   },
   "file_extension": ".py",
   "mimetype": "text/x-python",
   "name": "python",
   "nbconvert_exporter": "python",
   "pygments_lexer": "ipython3",
   "version": "3.6.5"
  }
 },
 "nbformat": 4,
 "nbformat_minor": 2
}
