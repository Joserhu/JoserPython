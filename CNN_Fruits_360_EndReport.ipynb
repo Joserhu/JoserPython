{
 "cells": [
  {
   "cell_type": "markdown",
   "metadata": {},
   "source": [
    "<br>\n",
    "<font color=blue  size=6 face=\"微軟正黑體\">期末專案進度報告</font> \n",
    "<br>\n",
    "<br>\n",
    "<font color=\"#000080\"  size=4 face=\"微軟正黑體\">組員 : 胡嘉展(Joser Hu) , 紀弘俊(David Chi)</font>  \n",
    "<br>\n",
    "<font color=\"#000080\"  size=4 face=\"微軟正黑體\">主題 : 應用深度學習來識別蔬果</font> "
   ]
  },
  {
   "cell_type": "markdown",
   "metadata": {},
   "source": [
    "<br>\n",
    "<font color=\"#000080\"  size=5 face=\"微軟正黑體\"> 介紹 :</font>  \n",
    "<br>\n",
    "<font color=\"#000080\" size=3 face=\"微軟正黑體\"> \n",
    "使用卷積神經網路CNN識別蔬果圖像，內容包括 : 蘋果，梨，香蕉，仙人掌果，哈密瓜，櫻桃，萊姆，番茄，葡萄，葡萄柚，番石榴，榛子，桃，柿子，大頭菜，檸檬，荔枝，柑，芒果，芒果，甜瓜，桑樹，橙，木瓜，百香果，桃，鳳梨，辣椒，菠蘿，石榴，柚子蜜，木瓜，紅毛丹，覆盆子，紅醋栗，草莓.....\n",
    "</font> \n",
    "\n",
    "<br>\n",
    "<font color=\"#000080\"  size=5 face=\"微軟正黑體\"> 實作方法 : </font>\n",
    "<br>\n",
    "<font color=\"#000080\"  size=3 face=\"微軟正黑體\"> 使用卷積神經網路CNN(Convolutional neural network)訓練流程</font>  \n",
    "<img src=\"CNN_1.png\" alt=\"drawing\" style=\"width: 800px;\"/>\n",
    "\n",
    "<br>\n",
    "<font color=Red size=3 face=\"微軟正黑體\">[輸入]</font>\n",
    "<br>\n",
    "* 圖像大小：100x100 Pixel\n",
    "* 訓練圖像數量: 52,262\n",
    "* 測試圖像數量: 17,540張圖\n",
    "\n",
    "<br>\n",
    "<font color=Red size=3 face=\"微軟正黑體\"> [輸出]</font>\n",
    "<br>\n",
    "* 可分辨蔬果分類數量：101 種水果\n",
    "* 識別圖像來源 : 經由水果測試圖像進行預測識別出水果種類。\n",
    "\n",
    "<br>\n",
    "<font color=Red size=3 face=\"微軟正黑體\">[訓練資料結構]</font>\n",
    "<br>\n",
    "1. 建立101種 \"英文水果名稱\" 目錄，按照英文字母由a~z排列出順序，大約 (0~100) 個目錄。\n",
    "2. 標註Label (y_train)   : 水果目錄順序碼\n",
    "3. 特徵Feature (x_train) : 水果目錄下圖像檔"
   ]
  },
  {
   "cell_type": "markdown",
   "metadata": {},
   "source": [
    "<font color=\"#000080\"  size=5 face=\"微軟正黑體\"> 專案排程與步驟 :</font>  \n",
    "<img src=\"CNN_3.png\" alt=\"drawing\" style=\"width: 800px;\"/>"
   ]
  },
  {
   "cell_type": "markdown",
   "metadata": {},
   "source": [
    "<font color=\"#000080\"  size=5 face=\"微軟正黑體\"> 目前進度 :</font>  \n",
    "<font color=\"#000080\" size=3 face=\"微軟正黑體\"  > (3) 開始建立CNN模型!</font>"
   ]
  },
  {
   "cell_type": "code",
   "execution_count": null,
   "metadata": {},
   "outputs": [],
   "source": []
  }
 ],
 "metadata": {
  "kernelspec": {
   "display_name": "Python 3",
   "language": "python",
   "name": "python3"
  },
  "language_info": {
   "codemirror_mode": {
    "name": "ipython",
    "version": 3
   },
   "file_extension": ".py",
   "mimetype": "text/x-python",
   "name": "python",
   "nbconvert_exporter": "python",
   "pygments_lexer": "ipython3",
   "version": "3.6.5"
  }
 },
 "nbformat": 4,
 "nbformat_minor": 2
}
