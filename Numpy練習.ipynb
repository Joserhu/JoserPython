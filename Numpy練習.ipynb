{
 "cells": [
  {
   "cell_type": "code",
   "execution_count": 133,
   "metadata": {},
   "outputs": [],
   "source": [
    "%matplotlib inline\n",
    "\n",
    "import numpy as np\n",
    "import matplotlib.pyplot as plt\n",
    "import pandas as pd\n",
    "from ipywidgets import interact\n",
    "from ipywidgets import interact_manual"
   ]
  },
  {
   "cell_type": "code",
   "execution_count": 134,
   "metadata": {},
   "outputs": [],
   "source": [
    "matrix1 = np.array([[1, 2], [3, 4]])\n",
    "matrix2 = np.array([[5, 6], [7, 8]])\n",
    "LZ = np.array([5, -1, 3, 9, 0, -5, 9, 7,-2])"
   ]
  },
  {
   "cell_type": "code",
   "execution_count": 3,
   "metadata": {},
   "outputs": [
    {
     "name": "stdout",
     "output_type": "stream",
     "text": [
      "[[19 22]\n",
      " [43 50]]\n",
      "[[ 5 12]\n",
      " [21 32]]\n",
      "[5 3 9 9 7]\n"
     ]
    }
   ],
   "source": [
    "ADOTB = matrix1 @ matrix2\n",
    "ABYB = matrix1 * matrix2\n",
    "print ( matrix1 @ matrix2 ) # 矩陣相乘\n",
    "print ( matrix1 * matrix2 ) # 對應相乘:\n",
    "print(LZ[(LZ>0)&(LZ<10)])   # 尋找陣列內大於0和10 "
   ]
  },
  {
   "cell_type": "code",
   "execution_count": 97,
   "metadata": {},
   "outputs": [],
   "source": [
    "Q1Sales = np.array(['Bill','Elisa','Gina','Joser','Jack','Phyia','David','Tom','Clair','Kevin'])\n",
    "Q2Sales = np.array(['Kevin','Bill','Bill','Kevin','Jack','Clair','David','Tom','Clair','Kevin'])\n",
    "Q3Sales = np.array(['Bill','Kevin','David','Joser','Clair','Kevin','David','Tom','Jack','Kevin'])\n",
    "Q4Sales = np.array(['Joser','Kevin','Joser','Tom','Tom','Joser','David','Tom','Phyia','Kevin'])\n",
    "\n",
    "ID_Def = 200\n",
    "SalesID = [i for i in range(0+ID_Def,39+ID_Def)]  \n",
    "\n",
    "Q1Sales_list=list(Q1Sales)\n",
    "Q2Sales_list=list(Q2Sales)\n",
    "Q3Sales_list=list(Q3Sales)\n",
    "Q4Sales_list=list(Q4Sales)\n",
    "\n",
    "Q1Sales_list.extend(Q2Sales_list)\n",
    "Q1Sales_list.extend(Q3Sales_list)\n",
    "Q1Sales_list.extend(Q4Sales_list)\n",
    "\n",
    "TotalSales = np.array(Q1Sales_list)\n",
    "#TotalSales = list(enumerate(np.array(Q1Sales_list)))\n",
    "TotalSales = list(zip(SalesID,TotalSales))\n",
    "# TotalSales[(TotalSales =='Clair')]"
   ]
  },
  {
   "cell_type": "code",
   "execution_count": 96,
   "metadata": {},
   "outputs": [
    {
     "data": {
      "text/plain": [
       "[(200, 'Bill'),\n",
       " (201, 'Elisa'),\n",
       " (202, 'Gina'),\n",
       " (203, 'Joser'),\n",
       " (204, 'Jack'),\n",
       " (205, 'Clair'),\n",
       " (206, 'David'),\n",
       " (207, 'Tom'),\n",
       " (208, 'Clair'),\n",
       " (209, 'Kevin'),\n",
       " (210, 'Danie'),\n",
       " (211, 'Ben'),\n",
       " (212, 'Shanne'),\n",
       " (213, 'Joseph'),\n",
       " (214, 'Joneson'),\n",
       " (215, 'Roger'),\n",
       " (216, 'Jenson'),\n",
       " (217, 'Winne'),\n",
       " (218, 'Jeff'),\n",
       " (219, 'Leo')]"
      ]
     },
     "execution_count": 96,
     "metadata": {},
     "output_type": "execute_result"
    }
   ],
   "source": [
    "TotalSales"
   ]
  },
  {
   "cell_type": "code",
   "execution_count": 137,
   "metadata": {},
   "outputs": [
    {
     "name": "stdout",
     "output_type": "stream",
     "text": [
      "Input Team1 Default ID Number :100\n",
      "Input Team2 Default ID Number :200\n",
      "Input Team3 Default ID Number :300\n",
      "{100: 'Bill', 101: 'Elisa', 102: 'Gina', 103: 'Joser', 104: 'Jack'}\n",
      "{200: 'Clair', 201: 'David', 202: 'Tom', 203: 'Clair', 204: 'Kevin'}\n",
      "{300: 'Danie', 301: 'Ben', 302: 'Shanne', 303: 'Joseph', 304: 'Joneson'}\n"
     ]
    }
   ],
   "source": [
    "%matplotlib inline\n",
    "import numpy as np\n",
    "import matplotlib.pyplot as plt\n",
    "import pandas as pd\n",
    "from ipywidgets import interact\n",
    "from ipywidgets import interact_manual\n",
    "\n",
    "# 自動幫團隊編號\n",
    "Team1 = np.array(['Bill','Elisa','Gina','Joser','Jack'])\n",
    "Team2 = np.array(['Clair','David','Tom','Clair','Kevin'])\n",
    "Team3 = np.array(['Danie','Ben','Shanne','Joseph','Joneson'])\n",
    "# 輸入團隊起始編號\n",
    "Def_id =int( input('Input Team1 Default ID Number :'))\n",
    "Team1_id = [i for i in range(0+Def_id,5+Def_id)]  \n",
    "Def_id =int( input('Input Team2 Default ID Number :'))\n",
    "Team2_id = [i for i in range(0+Def_id,5+Def_id)]  \n",
    "Def_id =int( input('Input Team3 Default ID Number :'))\n",
    "Team3_id = [i for i in range(0+Def_id,5+Def_id)]  \n",
    "# 團隊編號+團隊名稱\n",
    "Team1Member = dict(zip(Team1_id,Team1))\n",
    "Team2Member = dict(zip(Team2_id,Team2))\n",
    "Team3Member = dict(zip(Team3_id,Team3))\n",
    "print(Team1Member)\n",
    "print(Team2Member)\n",
    "print(Team3Member)"
   ]
  },
  {
   "cell_type": "code",
   "execution_count": null,
   "metadata": {},
   "outputs": [],
   "source": []
  }
 ],
 "metadata": {
  "kernelspec": {
   "display_name": "Python 3",
   "language": "python",
   "name": "python3"
  },
  "language_info": {
   "codemirror_mode": {
    "name": "ipython",
    "version": 3
   },
   "file_extension": ".py",
   "mimetype": "text/x-python",
   "name": "python",
   "nbconvert_exporter": "python",
   "pygments_lexer": "ipython3",
   "version": "3.6.5"
  }
 },
 "nbformat": 4,
 "nbformat_minor": 2
}
