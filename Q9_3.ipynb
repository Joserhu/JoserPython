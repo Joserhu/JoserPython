{
 "cells": [
  {
   "cell_type": "code",
   "execution_count": 1,
   "metadata": {
    "colab": {
     "base_uri": "https://localhost:8080/",
     "height": 35
    },
    "colab_type": "code",
    "id": "vYKd-5165m25",
    "outputId": "76514aec-a347-46e5-ab83-f377cf765ea4"
   },
   "outputs": [
    {
     "name": "stdout",
     "output_type": "stream",
     "text": [
      "env: KERAS_BACKEND=tensorflow\n"
     ]
    }
   ],
   "source": [
    "%env KERAS_BACKEND=tensorflow"
   ]
  },
  {
   "cell_type": "code",
   "execution_count": 2,
   "metadata": {
    "colab": {
     "base_uri": "https://localhost:8080/",
     "height": 35
    },
    "colab_type": "code",
    "id": "hjd1BJRP5m3W",
    "outputId": "3d03d43e-e876-4132-d759-1308cdc5796b"
   },
   "outputs": [
    {
     "name": "stderr",
     "output_type": "stream",
     "text": [
      "Using TensorFlow backend.\n"
     ]
    }
   ],
   "source": [
    "%matplotlib inline\n",
    "\n",
    "import numpy as np\n",
    "import matplotlib.pyplot as plt\n",
    "\n",
    "# Keras functions\n",
    "from keras.models import Sequential\n",
    "# from keras.layers import Dense, Activation, Flatten\n",
    "# from keras.layers import Conv2D, MaxPool2D\n",
    "from keras.layers import Conv2D,MaxPool2D,AveragePooling2D,Dense,Activation,Dropout,Flatten\n",
    "from keras.optimizers import SGD\n",
    "\n",
    "from keras.preprocessing.image import ImageDataGenerator\n",
    "from tensorflow import keras  \n",
    "from keras.optimizers import Adam\n",
    "\n",
    "\n",
    "# Keras dataset\n",
    "from keras.datasets import mnist"
   ]
  },
  {
   "cell_type": "code",
   "execution_count": 3,
   "metadata": {
    "colab": {},
    "colab_type": "code",
    "id": "iciQbt1A5m3g"
   },
   "outputs": [],
   "source": [
    "(x_train, y_train), (x_test, y_test) = mnist.load_data()"
   ]
  },
  {
   "cell_type": "code",
   "execution_count": 4,
   "metadata": {
    "colab": {
     "base_uri": "https://localhost:8080/",
     "height": 35
    },
    "colab_type": "code",
    "id": "8nGaNqiO5m3m",
    "outputId": "a9199262-4f2e-4461-f6a9-3eb5903693b1"
   },
   "outputs": [
    {
     "data": {
      "text/plain": [
       "(28, 28)"
      ]
     },
     "execution_count": 4,
     "metadata": {},
     "output_type": "execute_result"
    }
   ],
   "source": [
    "x_train[1234].shape"
   ]
  },
  {
   "cell_type": "code",
   "execution_count": 5,
   "metadata": {
    "colab": {},
    "colab_type": "code",
    "id": "VmaQsNV05m33"
   },
   "outputs": [],
   "source": [
    "x_train = x_train.reshape(60000,28,28,1)\n",
    "x_test = x_test.reshape(10000,28,28,1)"
   ]
  },
  {
   "cell_type": "code",
   "execution_count": 6,
   "metadata": {
    "colab": {
     "base_uri": "https://localhost:8080/",
     "height": 35
    },
    "colab_type": "code",
    "id": "tuhQWJoF5m4I",
    "outputId": "b94caa16-3fce-46ae-f22c-f54e94d1538d"
   },
   "outputs": [
    {
     "data": {
      "text/plain": [
       "(28, 28, 1)"
      ]
     },
     "execution_count": 6,
     "metadata": {},
     "output_type": "execute_result"
    }
   ],
   "source": [
    "x_train[1234].shape"
   ]
  },
  {
   "cell_type": "code",
   "execution_count": 7,
   "metadata": {
    "colab": {},
    "colab_type": "code",
    "id": "Ibz0WZgZ5m4O"
   },
   "outputs": [],
   "source": [
    "from keras.utils import np_utils\n",
    "y_train = np_utils.to_categorical(y_train,10)\n",
    "y_test = np_utils.to_categorical(y_test,10)"
   ]
  },
  {
   "cell_type": "code",
   "execution_count": 8,
   "metadata": {
    "colab": {},
    "colab_type": "code",
    "id": "mSC_JApW5m4S"
   },
   "outputs": [],
   "source": [
    "x_train = x_train/255\n",
    "x_test = x_test/255"
   ]
  },
  {
   "cell_type": "code",
   "execution_count": 9,
   "metadata": {
    "colab": {},
    "colab_type": "code",
    "id": "mc07thtI5m4l"
   },
   "outputs": [],
   "source": [
    "model = Sequential()"
   ]
  },
  {
   "cell_type": "markdown",
   "metadata": {
    "colab_type": "text",
    "id": "pr6Qeb385m4y"
   },
   "source": [
    "## 原來模型 model1  <font color=red size=6>   accuracy = 0.933 </font> "
   ]
  },
  {
   "cell_type": "code",
   "execution_count": 10,
   "metadata": {
    "colab": {
     "base_uri": "https://localhost:8080/",
     "height": 89
    },
    "colab_type": "code",
    "id": "FINChNBM5m40",
    "outputId": "be9fad57-4504-4313-ed43-eda0afe32012"
   },
   "outputs": [],
   "source": [
    "# Convolution 1\n",
    "model.add(Conv2D(4,(5,5),padding='same',input_shape=(28,28,1)))\n",
    "model.add(Activation('relu'))\n",
    "# Max-Pooling\n",
    "model.add(MaxPool2D(pool_size=(2,2)))\n",
    "\n",
    "\n",
    "# Convolution 2\n",
    "model.add(Conv2D(8,(5,5),padding='same'))\n",
    "model.add(Activation('relu'))\n",
    "# 再Max-Pooling\n",
    "model.add(MaxPool2D(pool_size=(2,2)))\n",
    "\n",
    "# Convolution 3\n",
    "model.add(Conv2D(16,(5,5),padding='same'))\n",
    "model.add(Activation('relu'))\n",
    "# 再Max-Pooling\n",
    "model.add(MaxPool2D(pool_size=(2,2)))\n",
    "\n",
    "model.add(Flatten())\n",
    "model.add(Dense(9))\n",
    "model.add(Activation('relu'))\n",
    "\n",
    "model.add(Dense(10))\n",
    "model.add(Activation('softmax'))"
   ]
  },
  {
   "cell_type": "code",
   "execution_count": 11,
   "metadata": {
    "colab": {},
    "colab_type": "code",
    "id": "uHnoXV9G5m47"
   },
   "outputs": [],
   "source": [
    "model.compile(loss='mse', optimizer=SGD(lr=0.07),metrics=['accuracy'])"
   ]
  },
  {
   "cell_type": "code",
   "execution_count": 12,
   "metadata": {
    "colab": {
     "base_uri": "https://localhost:8080/",
     "height": 624
    },
    "colab_type": "code",
    "id": "B0dAGSf85m5L",
    "outputId": "b43705e2-d33a-40e8-ce24-562151497dbb"
   },
   "outputs": [
    {
     "name": "stdout",
     "output_type": "stream",
     "text": [
      "_________________________________________________________________\n",
      "Layer (type)                 Output Shape              Param #   \n",
      "=================================================================\n",
      "conv2d_1 (Conv2D)            (None, 28, 28, 4)         104       \n",
      "_________________________________________________________________\n",
      "activation_1 (Activation)    (None, 28, 28, 4)         0         \n",
      "_________________________________________________________________\n",
      "max_pooling2d_1 (MaxPooling2 (None, 14, 14, 4)         0         \n",
      "_________________________________________________________________\n",
      "conv2d_2 (Conv2D)            (None, 14, 14, 8)         808       \n",
      "_________________________________________________________________\n",
      "activation_2 (Activation)    (None, 14, 14, 8)         0         \n",
      "_________________________________________________________________\n",
      "max_pooling2d_2 (MaxPooling2 (None, 7, 7, 8)           0         \n",
      "_________________________________________________________________\n",
      "conv2d_3 (Conv2D)            (None, 7, 7, 16)          3216      \n",
      "_________________________________________________________________\n",
      "activation_3 (Activation)    (None, 7, 7, 16)          0         \n",
      "_________________________________________________________________\n",
      "max_pooling2d_3 (MaxPooling2 (None, 3, 3, 16)          0         \n",
      "_________________________________________________________________\n",
      "flatten_1 (Flatten)          (None, 144)               0         \n",
      "_________________________________________________________________\n",
      "dense_1 (Dense)              (None, 9)                 1305      \n",
      "_________________________________________________________________\n",
      "activation_4 (Activation)    (None, 9)                 0         \n",
      "_________________________________________________________________\n",
      "dense_2 (Dense)              (None, 10)                100       \n",
      "_________________________________________________________________\n",
      "activation_5 (Activation)    (None, 10)                0         \n",
      "=================================================================\n",
      "Total params: 5,533\n",
      "Trainable params: 5,533\n",
      "Non-trainable params: 0\n",
      "_________________________________________________________________\n"
     ]
    }
   ],
   "source": [
    "model.summary()"
   ]
  },
  {
   "cell_type": "code",
   "execution_count": 13,
   "metadata": {
    "colab": {},
    "colab_type": "code",
    "id": "qAy3cnxF5m5U"
   },
   "outputs": [],
   "source": [
    "# hyperparamters\n",
    "epochs = 10 "
   ]
  },
  {
   "cell_type": "code",
   "execution_count": 14,
   "metadata": {
    "colab": {
     "base_uri": "https://localhost:8080/",
     "height": 436
    },
    "colab_type": "code",
    "id": "6lJxFiYX5m5i",
    "outputId": "65d0d2cc-9c69-4672-df51-3462113805c6"
   },
   "outputs": [
    {
     "name": "stdout",
     "output_type": "stream",
     "text": [
      "Epoch 1/10\n",
      "60000/60000 [==============================] - 33s 552us/step - loss: 0.0898 - acc: 0.1313\n",
      "Epoch 2/10\n",
      "60000/60000 [==============================] - 31s 524us/step - loss: 0.0886 - acc: 0.19491s -\n",
      "Epoch 3/10\n",
      "60000/60000 [==============================] - 31s 522us/step - loss: 0.0832 - acc: 0.2393\n",
      "Epoch 4/10\n",
      "60000/60000 [==============================] - 32s 535us/step - loss: 0.0651 - acc: 0.50271s - loss:\n",
      "Epoch 5/10\n",
      "60000/60000 [==============================] - 32s 534us/step - loss: 0.0395 - acc: 0.7314\n",
      "Epoch 6/10\n",
      "60000/60000 [==============================] - 35s 585us/step - loss: 0.0296 - acc: 0.7991\n",
      "Epoch 7/10\n",
      "60000/60000 [==============================] - 33s 545us/step - loss: 0.0206 - acc: 0.8631\n",
      "Epoch 8/10\n",
      "60000/60000 [==============================] - 34s 573us/step - loss: 0.0162 - acc: 0.8943\n",
      "Epoch 9/10\n",
      "60000/60000 [==============================] - 33s 554us/step - loss: 0.0137 - acc: 0.9102\n",
      "Epoch 10/10\n",
      "60000/60000 [==============================] - 31s 524us/step - loss: 0.0122 - acc: 0.9202\n"
     ]
    }
   ],
   "source": [
    "model_conv = model.fit(x_train,y_train,batch_size=100, epochs=epochs)"
   ]
  },
  {
   "cell_type": "code",
   "execution_count": 15,
   "metadata": {
    "colab": {
     "base_uri": "https://localhost:8080/",
     "height": 313
    },
    "colab_type": "code",
    "id": "vn9YKA_z5m5r",
    "outputId": "c435fa0c-80aa-4c90-e208-340be41f413f"
   },
   "outputs": [
    {
     "data": {
      "text/plain": [
       "<function matplotlib.pyplot.show(*args, **kw)>"
      ]
     },
     "execution_count": 15,
     "metadata": {},
     "output_type": "execute_result"
    },
    {
     "data": {
      "image/png": "[encoded data removed]",
      "text/plain": [
       "<Figure size 432x288 with 1 Axes>"
      ]
     },
     "metadata": {},
     "output_type": "display_data"
    }
   ],
   "source": [
    "plt.plot(model_conv.history['acc'])\n",
    "plt.title('model accuracy')\n",
    "plt.ylabel('accuracy')\n",
    "plt.xlabel('epoch')\n",
    "plt.legend([\"accuracy\"],loc = \"best\")\n",
    "plt.show"
   ]
  },
  {
   "cell_type": "markdown",
   "metadata": {
    "colab_type": "text",
    "id": "fyWxz6rp5m6A"
   },
   "source": [
    "# 建立可調參數及 模型 model2  - >  調整filter to 8\n",
    "<br>\n",
    "<font color=red size=6>  Accuracy = 0.847 </font>  \n"
   ]
  },
  {
   "cell_type": "code",
   "execution_count": 16,
   "metadata": {
    "colab": {},
    "colab_type": "code",
    "id": "ifEBNkyW5m6C"
   },
   "outputs": [],
   "source": [
    "# hyperparamters\n",
    "batch_size = 100     # Def 100\n",
    "filters1 = 8          # Def 4\n",
    "filters2 = filters1*2 \n",
    "Flat_Dense = 9       # Def 9\n",
    "SGDlr = 0.07         # Def 0.07\n",
    "kernelsize = (5, 5) # Def 5,5"
   ]
  },
  {
   "cell_type": "code",
   "execution_count": 17,
   "metadata": {
    "colab": {},
    "colab_type": "code",
    "id": "qXlCfvPQ5m6G"
   },
   "outputs": [],
   "source": [
    "model2 = Sequential()\n",
    "\n",
    "# Convolution 1\n",
    "model2.add(Conv2D(filters1,kernelsize,padding='same',input_shape=(28,28,1)))\n",
    "model2.add(Activation('relu'))\n",
    "# Max-Pooling\n",
    "model2.add(MaxPool2D(pool_size=(2,2)))\n",
    "\n",
    "\n",
    "# Convolution 2\n",
    "model2.add(Conv2D(filters2,kernelsize,padding='same'))\n",
    "model2.add(Activation('relu'))\n",
    "# 再Max-Pooling\n",
    "model2.add(MaxPool2D(pool_size=(2,2)))\n",
    "\n",
    "# Convolution 3\n",
    "model2.add(Conv2D(filters2*2,kernelsize,padding='same'))\n",
    "model2.add(Activation('relu'))\n",
    "# 再Max-Pooling\n",
    "model2.add(MaxPool2D(pool_size=(2,2)))\n",
    "\n",
    "model2.add(Flatten())\n",
    "model2.add(Dense(Flat_Dense))\n",
    "model2.add(Activation('relu'))\n",
    "\n",
    "model2.add(Dense(10))\n",
    "model2.add(Activation('softmax'))\n"
   ]
  },
  {
   "cell_type": "code",
   "execution_count": 18,
   "metadata": {
    "colab": {},
    "colab_type": "code",
    "id": "55sost3T5m6L"
   },
   "outputs": [],
   "source": [
    "model2.compile(loss='mse', optimizer=SGD(lr=0.07),metrics=['accuracy'])"
   ]
  },
  {
   "cell_type": "code",
   "execution_count": 19,
   "metadata": {
    "colab": {
     "base_uri": "https://localhost:8080/",
     "height": 624
    },
    "colab_type": "code",
    "id": "SsIJKHhs5m6q",
    "outputId": "bc598cc7-9fb0-4d92-fcd0-9be2edb177a5"
   },
   "outputs": [
    {
     "name": "stdout",
     "output_type": "stream",
     "text": [
      "_________________________________________________________________\n",
      "Layer (type)                 Output Shape              Param #   \n",
      "=================================================================\n",
      "conv2d_4 (Conv2D)            (None, 28, 28, 8)         208       \n",
      "_________________________________________________________________\n",
      "activation_6 (Activation)    (None, 28, 28, 8)         0         \n",
      "_________________________________________________________________\n",
      "max_pooling2d_4 (MaxPooling2 (None, 14, 14, 8)         0         \n",
      "_________________________________________________________________\n",
      "conv2d_5 (Conv2D)            (None, 14, 14, 16)        3216      \n",
      "_________________________________________________________________\n",
      "activation_7 (Activation)    (None, 14, 14, 16)        0         \n",
      "_________________________________________________________________\n",
      "max_pooling2d_5 (MaxPooling2 (None, 7, 7, 16)          0         \n",
      "_________________________________________________________________\n",
      "conv2d_6 (Conv2D)            (None, 7, 7, 32)          12832     \n",
      "_________________________________________________________________\n",
      "activation_8 (Activation)    (None, 7, 7, 32)          0         \n",
      "_________________________________________________________________\n",
      "max_pooling2d_6 (MaxPooling2 (None, 3, 3, 32)          0         \n",
      "_________________________________________________________________\n",
      "flatten_2 (Flatten)          (None, 288)               0         \n",
      "_________________________________________________________________\n",
      "dense_3 (Dense)              (None, 9)                 2601      \n",
      "_________________________________________________________________\n",
      "activation_9 (Activation)    (None, 9)                 0         \n",
      "_________________________________________________________________\n",
      "dense_4 (Dense)              (None, 10)                100       \n",
      "_________________________________________________________________\n",
      "activation_10 (Activation)   (None, 10)                0         \n",
      "=================================================================\n",
      "Total params: 18,957\n",
      "Trainable params: 18,957\n",
      "Non-trainable params: 0\n",
      "_________________________________________________________________\n"
     ]
    }
   ],
   "source": [
    "model2.summary()"
   ]
  },
  {
   "cell_type": "code",
   "execution_count": 20,
   "metadata": {
    "colab": {
     "base_uri": "https://localhost:8080/",
     "height": 364
    },
    "colab_type": "code",
    "id": "3QdKtbR25m69",
    "outputId": "52dec39f-cd96-4368-d927-614dc46c091c"
   },
   "outputs": [
    {
     "name": "stdout",
     "output_type": "stream",
     "text": [
      "Epoch 1/10\n",
      "60000/60000 [==============================] - 47s 775us/step - loss: 0.0898 - acc: 0.11890s - loss: 0.0898 - a\n",
      "Epoch 2/10\n",
      "60000/60000 [==============================] - 44s 740us/step - loss: 0.0889 - acc: 0.1723\n",
      "Epoch 3/10\n",
      "60000/60000 [==============================] - 44s 731us/step - loss: 0.0855 - acc: 0.1952\n",
      "Epoch 4/10\n",
      "60000/60000 [==============================] - 45s 744us/step - loss: 0.0734 - acc: 0.3637\n",
      "Epoch 5/10\n",
      "60000/60000 [==============================] - 44s 726us/step - loss: 0.0516 - acc: 0.6220\n",
      "Epoch 6/10\n",
      "60000/60000 [==============================] - 43s 721us/step - loss: 0.0373 - acc: 0.7413\n",
      "Epoch 7/10\n",
      "60000/60000 [==============================] - 44s 735us/step - loss: 0.0263 - acc: 0.8266\n",
      "Epoch 8/10\n",
      "60000/60000 [==============================] - 44s 732us/step - loss: 0.0232 - acc: 0.8432\n",
      "Epoch 9/10\n",
      "60000/60000 [==============================] - 43s 717us/step - loss: 0.0216 - acc: 0.8532\n",
      "Epoch 10/10\n",
      "60000/60000 [==============================] - 46s 761us/step - loss: 0.0206 - acc: 0.8591\n"
     ]
    }
   ],
   "source": [
    "model2_conv = model2.fit(x_train,y_train,batch_size=batch_size, epochs=epochs)"
   ]
  },
  {
   "cell_type": "code",
   "execution_count": 21,
   "metadata": {
    "colab": {
     "base_uri": "https://localhost:8080/",
     "height": 313
    },
    "colab_type": "code",
    "id": "rI8jtFjH5m7B",
    "outputId": "638d02b9-fd8e-41f1-b1f0-cbbd0aebb6d9"
   },
   "outputs": [
    {
     "data": {
      "text/plain": [
       "<function matplotlib.pyplot.show(*args, **kw)>"
      ]
     },
     "execution_count": 21,
     "metadata": {},
     "output_type": "execute_result"
    },
    {
     "data": {
      "image/png": "[encoded data removed]",
      "text/plain": [
       "<Figure size 432x288 with 1 Axes>"
      ]
     },
     "metadata": {},
     "output_type": "display_data"
    }
   ],
   "source": [
    "plt.plot(model2_conv.history['acc'])\n",
    "plt.title('model accuracy')\n",
    "plt.ylabel('accuracy')\n",
    "plt.xlabel('epoch')\n",
    "plt.legend([\"accuracy\"],loc = \"best\")\n",
    "plt.show"
   ]
  },
  {
   "cell_type": "markdown",
   "metadata": {
    "colab_type": "text",
    "id": "9uQ1Lnr35m7G"
   },
   "source": [
    "# 模型 model3 \n",
    "## 調整filter to 8 & batch_size to 200 精確度大幅下降!\n",
    "<br>\n",
    "<font color=red size=6>  Accuracy = 0.596 </font>  "
   ]
  },
  {
   "cell_type": "code",
   "execution_count": 22,
   "metadata": {
    "colab": {},
    "colab_type": "code",
    "id": "pBjMlBo75m7U"
   },
   "outputs": [],
   "source": [
    "# hyperparamters\n",
    "batch_size = 200     # Def 100\n",
    "filters1 = 8          # Def 4\n",
    "filters2 = filters1*2 \n",
    "Flat_Dense = 9       # Def 9\n",
    "SGDlr = 0.07         # Def 0.07\n",
    "kernelsize = (5, 5) # Def 5,5"
   ]
  },
  {
   "cell_type": "code",
   "execution_count": 23,
   "metadata": {
    "colab": {},
    "colab_type": "code",
    "id": "aXq9gjRN5m7k"
   },
   "outputs": [],
   "source": [
    "model3 = Sequential()\n",
    "\n",
    "# Convolution 1\n",
    "model3.add(Conv2D(filters1,kernelsize,padding='same',input_shape=(28,28,1)))\n",
    "model3.add(Activation('relu'))\n",
    "# Max-Pooling\n",
    "model3.add(MaxPool2D(pool_size=(2,2)))\n",
    "\n",
    "\n",
    "# Convolution 2\n",
    "model3.add(Conv2D(filters2,kernelsize,padding='same'))\n",
    "model3.add(Activation('relu'))\n",
    "# 再Max-Pooling\n",
    "model3.add(MaxPool2D(pool_size=(2,2)))\n",
    "\n",
    "# Convolution 3\n",
    "model3.add(Conv2D(filters2*2,kernelsize,padding='same'))\n",
    "model3.add(Activation('relu'))\n",
    "# 再Max-Pooling\n",
    "model3.add(MaxPool2D(pool_size=(2,2)))\n",
    "\n",
    "model3.add(Flatten())\n",
    "model3.add(Dense(Flat_Dense))\n",
    "model3.add(Activation('relu'))\n",
    "\n",
    "model3.add(Dense(10))\n",
    "model3.add(Activation('softmax'))\n",
    "\n",
    "model3.compile(loss='mse', optimizer=SGD(lr=0.07),metrics=['accuracy'])"
   ]
  },
  {
   "cell_type": "code",
   "execution_count": 24,
   "metadata": {
    "colab": {
     "base_uri": "https://localhost:8080/",
     "height": 624
    },
    "colab_type": "code",
    "id": "MTUIaEvs5m7z",
    "outputId": "23925229-375b-4f53-8e1a-6b7adc0d1424"
   },
   "outputs": [
    {
     "name": "stdout",
     "output_type": "stream",
     "text": [
      "_________________________________________________________________\n",
      "Layer (type)                 Output Shape              Param #   \n",
      "=================================================================\n",
      "conv2d_7 (Conv2D)            (None, 28, 28, 8)         208       \n",
      "_________________________________________________________________\n",
      "activation_11 (Activation)   (None, 28, 28, 8)         0         \n",
      "_________________________________________________________________\n",
      "max_pooling2d_7 (MaxPooling2 (None, 14, 14, 8)         0         \n",
      "_________________________________________________________________\n",
      "conv2d_8 (Conv2D)            (None, 14, 14, 16)        3216      \n",
      "_________________________________________________________________\n",
      "activation_12 (Activation)   (None, 14, 14, 16)        0         \n",
      "_________________________________________________________________\n",
      "max_pooling2d_8 (MaxPooling2 (None, 7, 7, 16)          0         \n",
      "_________________________________________________________________\n",
      "conv2d_9 (Conv2D)            (None, 7, 7, 32)          12832     \n",
      "_________________________________________________________________\n",
      "activation_13 (Activation)   (None, 7, 7, 32)          0         \n",
      "_________________________________________________________________\n",
      "max_pooling2d_9 (MaxPooling2 (None, 3, 3, 32)          0         \n",
      "_________________________________________________________________\n",
      "flatten_3 (Flatten)          (None, 288)               0         \n",
      "_________________________________________________________________\n",
      "dense_5 (Dense)              (None, 9)                 2601      \n",
      "_________________________________________________________________\n",
      "activation_14 (Activation)   (None, 9)                 0         \n",
      "_________________________________________________________________\n",
      "dense_6 (Dense)              (None, 10)                100       \n",
      "_________________________________________________________________\n",
      "activation_15 (Activation)   (None, 10)                0         \n",
      "=================================================================\n",
      "Total params: 18,957\n",
      "Trainable params: 18,957\n",
      "Non-trainable params: 0\n",
      "_________________________________________________________________\n"
     ]
    }
   ],
   "source": [
    "model3.summary()"
   ]
  },
  {
   "cell_type": "code",
   "execution_count": null,
   "metadata": {
    "colab": {
     "base_uri": "https://localhost:8080/",
     "height": 364
    },
    "colab_type": "code",
    "id": "E6Wuh0j35m72",
    "outputId": "74c4e97f-6772-4ffa-fc11-a395ed8f2164"
   },
   "outputs": [
    {
     "name": "stdout",
     "output_type": "stream",
     "text": [
      "Epoch 1/10\n",
      "60000/60000 [==============================] - 42s 694us/step - loss: 0.0898 - acc: 0.1306\n",
      "Epoch 2/10\n",
      "60000/60000 [==============================] - 43s 711us/step - loss: 0.0896 - acc: 0.1512\n",
      "Epoch 3/10\n",
      "60000/60000 [==============================] - 41s 679us/step - loss: 0.0891 - acc: 0.1682\n",
      "Epoch 4/10\n",
      "60000/60000 [==============================] - 39s 644us/step - loss: 0.0884 - acc: 0.1753\n",
      "Epoch 5/10\n",
      "60000/60000 [==============================] - 42s 697us/step - loss: 0.0868 - acc: 0.1833\n",
      "Epoch 6/10\n",
      "60000/60000 [==============================] - 42s 692us/step - loss: 0.0832 - acc: 0.2360\n",
      "Epoch 7/10\n",
      "60000/60000 [==============================] - 41s 679us/step - loss: 0.0782 - acc: 0.3462\n",
      "Epoch 8/10\n",
      "60000/60000 [==============================] - 41s 679us/step - loss: 0.0732 - acc: 0.3986\n",
      "Epoch 9/10\n",
      "60000/60000 [==============================] - 42s 699us/step - loss: 0.0645 - acc: 0.4638\n",
      "Epoch 10/10\n",
      " 3800/60000 [>.............................] - ETA: 37s - loss: 0.0587 - acc: 0.5145"
     ]
    }
   ],
   "source": [
    "model3_conv = model3.fit(x_train,y_train,batch_size=batch_size, epochs=epochs)"
   ]
  },
  {
   "cell_type": "code",
   "execution_count": null,
   "metadata": {
    "colab": {
     "base_uri": "https://localhost:8080/",
     "height": 313
    },
    "colab_type": "code",
    "id": "WGCeOHfj5m76",
    "outputId": "e837777d-b285-407d-d0ae-f1b175a47cae"
   },
   "outputs": [],
   "source": [
    "plt.plot(model3_conv.history['acc'])\n",
    "plt.title('model accuracy')\n",
    "plt.ylabel('accuracy')\n",
    "plt.xlabel('epoch')\n",
    "plt.legend([\"accuracy\"],loc = \"best\")\n",
    "plt.show"
   ]
  },
  {
   "cell_type": "markdown",
   "metadata": {
    "colab_type": "text",
    "id": "EZVfiE0L5m7_"
   },
   "source": [
    "#  模型 model4 \n",
    "## 調整filter to 8 & batch_size to 200  精確度無明顯改善!\n",
    "## 增加 Flat_Dense 到 32\n",
    "## 減少 kernelsize  到  3x3 \n",
    "<br>\n",
    "<font color=red size=6>  Accuracy = 0.87 </font>  "
   ]
  },
  {
   "cell_type": "code",
   "execution_count": null,
   "metadata": {
    "colab": {},
    "colab_type": "code",
    "id": "_Ki5EV3C5m8V"
   },
   "outputs": [],
   "source": [
    "# hyperparamters\n",
    "batch_size = 200     # Def 100\n",
    "filters1 = 8          # Def 4\n",
    "filters2 = filters1*2 \n",
    "Flat_Dense = 32       # Def 9\n",
    "SGDlr = 0.07         # Def 0.07\n",
    "kernelsize = (3, 3) # Def 5,5"
   ]
  },
  {
   "cell_type": "code",
   "execution_count": null,
   "metadata": {
    "colab": {},
    "colab_type": "code",
    "id": "Y0QfloVg5m8f"
   },
   "outputs": [],
   "source": [
    "model4 = Sequential()\n",
    "\n",
    "# Convolution 1\n",
    "model4.add(Conv2D(filters1,kernelsize,padding='same',input_shape=(28,28,1)))\n",
    "model4.add(Activation('relu'))\n",
    "# Max-Pooling\n",
    "model4.add(MaxPool2D(pool_size=(2,2)))\n",
    "\n",
    "\n",
    "# Convolution 2\n",
    "model4.add(Conv2D(filters2,kernelsize,padding='same'))\n",
    "model4.add(Activation('relu'))\n",
    "# 再Max-Pooling\n",
    "model4.add(MaxPool2D(pool_size=(2,2)))\n",
    "\n",
    "# Convolution 3\n",
    "model4.add(Conv2D(filters2*2,kernelsize,padding='same'))\n",
    "model4.add(Activation('relu'))\n",
    "# 再Max-Pooling\n",
    "model4.add(MaxPool2D(pool_size=(2,2)))\n",
    "\n",
    "model4.add(Flatten())\n",
    "model4.add(Dense(Flat_Dense))\n",
    "model4.add(Activation('relu'))\n",
    "\n",
    "model4.add(Dense(10))\n",
    "model4.add(Activation('softmax'))\n",
    "\n",
    "model4.compile(loss='mse', optimizer=SGD(lr=0.07),metrics=['accuracy'])\n",
    "# model4.compile(Adam(lr=0.0003),loss=keras.losses.categorical_crossentropy,metrics=['accuracy'])"
   ]
  },
  {
   "cell_type": "code",
   "execution_count": null,
   "metadata": {
    "colab": {
     "base_uri": "https://localhost:8080/",
     "height": 624
    },
    "colab_type": "code",
    "id": "hEul2beq5m8k",
    "outputId": "4801d022-3cf7-48f1-9c3f-cc00ac80ac66"
   },
   "outputs": [],
   "source": [
    "model4.summary()"
   ]
  },
  {
   "cell_type": "code",
   "execution_count": null,
   "metadata": {
    "colab": {
     "base_uri": "https://localhost:8080/",
     "height": 364
    },
    "colab_type": "code",
    "id": "vKWeuQ5i5m8u",
    "outputId": "20f159f2-ae18-469c-90d4-75c5cf0411b3"
   },
   "outputs": [],
   "source": [
    "model4_conv = model4.fit(x_train,y_train,batch_size=batch_size, epochs=epochs)"
   ]
  },
  {
   "cell_type": "code",
   "execution_count": null,
   "metadata": {
    "colab": {
     "base_uri": "https://localhost:8080/",
     "height": 313
    },
    "colab_type": "code",
    "id": "A6NukYhQ5m8x",
    "outputId": "4cbe33ff-c4db-4261-a1df-da15d20c28bc"
   },
   "outputs": [],
   "source": [
    "plt.plot(model4_conv.history['acc'])\n",
    "plt.title('model accuracy')\n",
    "plt.ylabel('accuracy')\n",
    "plt.xlabel('epoch')\n",
    "plt.legend([\"accuracy\"],loc = \"best\")\n",
    "plt.show"
   ]
  },
  {
   "cell_type": "markdown",
   "metadata": {
    "colab_type": "text",
    "id": "7tfvDFBj80dv"
   },
   "source": [
    "# 調回調參數model5  - >  調回原來Model1 參數，只調整 filter to 8，改變loss function and optimizer ， 明顯提升精確度，相當關鍵\n",
    "<br>\n",
    "<font color=red size=6>  Accuracy = 0.98 </font>  "
   ]
  },
  {
   "cell_type": "code",
   "execution_count": null,
   "metadata": {
    "colab": {},
    "colab_type": "code",
    "id": "QG5pF6uD8rwL"
   },
   "outputs": [],
   "source": [
    "# hyperparamters\n",
    "batch_size = 100     # Def 100\n",
    "filters1 = 8          # Def 4\n",
    "filters2 = filters1*2 \n",
    "Flat_Dense = 9       # Def 9\n",
    "SGDlr = 0.07         # Def 0.07\n",
    "kernelsize = (5, 5) # Def 5,5"
   ]
  },
  {
   "cell_type": "code",
   "execution_count": null,
   "metadata": {
    "colab": {},
    "colab_type": "code",
    "id": "2BVhiLTk9GjV"
   },
   "outputs": [],
   "source": [
    "model5 = Sequential()\n",
    "\n",
    "# Convolution 1\n",
    "model5.add(Conv2D(filters1,kernelsize,padding='same',input_shape=(28,28,1)))\n",
    "model5.add(Activation('relu'))\n",
    "# Max-Pooling\n",
    "model5.add(MaxPool2D(pool_size=(2,2)))\n",
    "\n",
    "\n",
    "# Convolution 2\n",
    "model5.add(Conv2D(filters2,kernelsize,padding='same'))\n",
    "model5.add(Activation('relu'))\n",
    "# 再Max-Pooling\n",
    "model5.add(MaxPool2D(pool_size=(2,2)))\n",
    "\n",
    "# Convolution 3\n",
    "model5.add(Conv2D(filters2*2,kernelsize,padding='same'))\n",
    "model5.add(Activation('relu'))\n",
    "# 再Max-Pooling\n",
    "model5.add(MaxPool2D(pool_size=(2,2)))\n",
    "\n",
    "model5.add(Flatten())\n",
    "model5.add(Dense(Flat_Dense))\n",
    "model5.add(Activation('relu'))\n",
    "\n",
    "model5.add(Dense(10))\n",
    "model5.add(Activation('softmax'))\n",
    "\n",
    "# model5.compile(loss='mse', optimizer=SGD(lr=0.07),metrics=['accuracy'])\n",
    "model5.compile(Adam(lr=0.0003),loss=keras.losses.categorical_crossentropy,metrics=['accuracy'])"
   ]
  },
  {
   "cell_type": "code",
   "execution_count": null,
   "metadata": {
    "colab": {
     "base_uri": "https://localhost:8080/",
     "height": 624
    },
    "colab_type": "code",
    "id": "07lNMWAh9Psd",
    "outputId": "fffa6d0a-2acf-44d7-b982-d028ae683267"
   },
   "outputs": [],
   "source": [
    "model5.summary()"
   ]
  },
  {
   "cell_type": "code",
   "execution_count": null,
   "metadata": {
    "colab": {
     "base_uri": "https://localhost:8080/",
     "height": 364
    },
    "colab_type": "code",
    "id": "WNt4-Hsi9TLH",
    "outputId": "17ac0561-5e71-4eb1-8fea-6a73ebe8234e"
   },
   "outputs": [],
   "source": [
    "model5_conv = model5.fit(x_train,y_train,batch_size=batch_size, epochs=epochs)"
   ]
  },
  {
   "cell_type": "code",
   "execution_count": null,
   "metadata": {
    "colab": {
     "base_uri": "https://localhost:8080/",
     "height": 313
    },
    "colab_type": "code",
    "id": "dmd09ccH9aSi",
    "outputId": "50fd6544-32aa-435d-eb28-a201515f0624"
   },
   "outputs": [],
   "source": [
    "plt.plot(model5_conv.history['acc'])\n",
    "plt.title('model accuracy')\n",
    "plt.ylabel('accuracy')\n",
    "plt.xlabel('epoch')\n",
    "plt.legend([\"accuracy\"],loc = \"best\")\n",
    "plt.show"
   ]
  },
  {
   "cell_type": "code",
   "execution_count": null,
   "metadata": {
    "colab": {},
    "colab_type": "code",
    "id": "CGiCS8o8-YJ3"
   },
   "outputs": [],
   "source": []
  }
 ],
 "metadata": {
  "accelerator": "GPU",
  "colab": {
   "collapsed_sections": [],
   "name": "Q9-2.ipynb",
   "provenance": [],
   "version": "0.3.2"
  },
  "kernelspec": {
   "display_name": "Python 3",
   "language": "python",
   "name": "python3"
  },
  "language_info": {
   "codemirror_mode": {
    "name": "ipython",
    "version": 3
   },
   "file_extension": ".py",
   "mimetype": "text/x-python",
   "name": "python",
   "nbconvert_exporter": "python",
   "pygments_lexer": "ipython3",
   "version": "3.6.5"
  }
 },
 "nbformat": 4,
 "nbformat_minor": 1
}
